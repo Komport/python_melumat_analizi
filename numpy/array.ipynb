#### İpython notebokla [bu saytdan](http://nbviewer.jupyter.org/) daha yaxşı baxa bilərsiz

- NumPy  MATLAB-a sərbəst bir alternativ hesab edilə bilər.


- MATLAB  proqramlaşdırma dili NumPy kimi görünür: hər ikisi də şərh edilə bilir,matrislərdə əməliyyatlara imkan verir. 

- MATLAB-ın çoxlu sayda paketi var, məsələn, Simulink (İngilis dili) üstünlüyü. NumPy üçün benzer "paketler" də var, məsələn, SciPy kitabxanası daha çox MATLAB kimi funksionallığı təmin edir, Matplotlib kitabxanası MATLAB üslubunda qrafik yaratmağa imkan verir. 


- Həm  MATLAB həm də NumPy lineer cəbrin əsas problemlərini həll etmək üçün LAPACK kitabxanasının koduna əsasən kod istifadə edir.

