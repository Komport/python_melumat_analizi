{
 "cells": [
  {
   "cell_type": "markdown",
   "metadata": {},
   "source": [
    "#### İpython notebokla [bu saytdan](http://nbviewer.jupyter.org/) daha yaxşı baxa bilərsiz\n",
    "\n",
    "- NumPy  MATLAB-a sərbəst bir alternativ hesab edilə bilər.\n",
    "\n",
    "\n",
    "- MATLAB  proqramlaşdırma dili NumPy kimi görünür: hər ikisi də şərh edilə bilir,matrislərdə əməliyyatlara imkan verir. \n",
    "\n",
    "- MATLAB-ın çoxlu sayda paketi var, məsələn, Simulink (İngilis dili) üstünlüyü. NumPy üçün benzer \"paketler\" də var, məsələn, SciPy kitabxanası daha çox MATLAB kimi funksionallığı təmin edir, Matplotlib kitabxanası MATLAB üslubunda qrafik yaratmağa imkan verir. \n",
    "\n",
    "\n",
    "- Həm  MATLAB həm də NumPy lineer cəbrin əsas problemlərini həll etmək üçün LAPACK kitabxanasının koduna əsasən kod istifadə edir."
   ]
  },
  {
   "cell_type": "code",
   "execution_count": 9,
   "metadata": {},
   "outputs": [],
   "source": [
    "import numpy as np"
   ]
  },
  {
   "cell_type": "markdown",
   "metadata": {},
   "source": [
    "**İlk evvel** numpy-a import edirik daha uzun yazmayaq deyə `as` - dan istifadə edirik  "
   ]
  },
  {
   "cell_type": "code",
   "execution_count": 10,
   "metadata": {},
   "outputs": [],
   "source": [
    "arr = [1,2,3,4]"
   ]
  },
  {
   "cell_type": "code",
   "execution_count": 11,
   "metadata": {},
   "outputs": [],
   "source": [
    "arr2 = [5,6,7,8]"
   ]
  },
  {
   "cell_type": "markdown",
   "metadata": {},
   "source": [
    "Arrayləri yaratdıqdan sonra listimizi düzəldirik və **numpydan** istifadə edirik "
   ]
  },
  {
   "cell_type": "code",
   "execution_count": 12,
   "metadata": {},
   "outputs": [],
   "source": [
    "lists = np.array([arr,arr2])"
   ]
  },
  {
   "cell_type": "code",
   "execution_count": 13,
   "metadata": {},
   "outputs": [
    {
     "data": {
      "text/plain": [
       "array([[1, 2, 3, 4],\n",
       "       [5, 6, 7, 8]])"
      ]
     },
     "execution_count": 13,
     "metadata": {},
     "output_type": "execute_result"
    }
   ],
   "source": [
    "lists"
   ]
  },
  {
   "cell_type": "markdown",
   "metadata": {},
   "source": [
    "**Numpy** üçün deyərdim ki for loop-dan daha az kod yazmaqla tez bir zaman içində nəticə əldə edib işləmək olar"
   ]
  },
  {
   "cell_type": "markdown",
   "metadata": {},
   "source": [
    " `arr = np.array(1,2,3,4)`\n",
    " ### bu cür array yazmaq sərfdi yalnız bu cür yazmaq olar \n",
    " `arr = np.array([1,2,3,4])`"
   ]
  },
  {
   "cell_type": "code",
   "execution_count": 14,
   "metadata": {},
   "outputs": [
    {
     "name": "stdout",
     "output_type": "stream",
     "text": [
      "0\n",
      "1\n",
      "2\n",
      "3\n",
      "4\n",
      "5\n"
     ]
    }
   ],
   "source": [
    "for i in range(0,6):\n",
    "    print(i)\n"
   ]
  },
  {
   "cell_type": "markdown",
   "metadata": {},
   "source": [
    "#### Bu yuxarıda yazdığım funksiya pythonda daim var amma numpyda isə çox sadədi\n"
   ]
  },
  {
   "cell_type": "code",
   "execution_count": 17,
   "metadata": {},
   "outputs": [
    {
     "data": {
      "text/plain": [
       "array([0, 1, 2, 3, 4, 5])"
      ]
     },
     "execution_count": 17,
     "metadata": {},
     "output_type": "execute_result"
    }
   ],
   "source": [
    "a = np.arange(6) \n",
    "a #olduqca asand oldu :))"
   ]
  },
  {
   "cell_type": "code",
   "execution_count": 29,
   "metadata": {},
   "outputs": [
    {
     "data": {
      "text/plain": [
       "array([[0, 1],\n",
       "       [2, 3],\n",
       "       [4, 5]])"
      ]
     },
     "execution_count": 29,
     "metadata": {},
     "output_type": "execute_result"
    }
   ],
   "source": [
    "a = np.arange(6).reshape(3,2)\n",
    "a"
   ]
  },
  {
   "cell_type": "markdown",
   "metadata": {},
   "source": [
    "**Şəkilləndirilməsi** üçün reshape dən istifadə edirik necə şəkiləndirə bilərik desək yuxarıdakı funksiyada 6 ya kimi rəqəmləri necə formalaşdırmaq istərik deyərəm "
   ]
  },
  {
   "cell_type": "code",
   "execution_count": 36,
   "metadata": {},
   "outputs": [
    {
     "data": {
      "text/plain": [
       "array([[0],\n",
       "       [1],\n",
       "       [2],\n",
       "       [3],\n",
       "       [4],\n",
       "       [5]])"
      ]
     },
     "execution_count": 36,
     "metadata": {},
     "output_type": "execute_result"
    }
   ],
   "source": [
    "a = np.arange(6).reshape(6,1) #reshape(2,3)/(6,1) və sair kimi yazmaq olar\n",
    "a"
   ]
  },
  {
   "cell_type": "code",
   "execution_count": 44,
   "metadata": {},
   "outputs": [],
   "source": [
    "a = np.arange(16).reshape(8,2)"
   ]
  },
  {
   "cell_type": "code",
   "execution_count": 45,
   "metadata": {},
   "outputs": [
    {
     "data": {
      "text/plain": [
       "(8, 2)"
      ]
     },
     "execution_count": 45,
     "metadata": {},
     "output_type": "execute_result"
    }
   ],
   "source": [
    "a.shape"
   ]
  },
  {
   "cell_type": "code",
   "execution_count": null,
   "metadata": {},
   "outputs": [],
   "source": []
  },
  {
   "cell_type": "code",
   "execution_count": null,
   "metadata": {},
   "outputs": [],
   "source": []
  }
 ],
 "metadata": {
  "kernelspec": {
   "display_name": "Python 3",
   "language": "python",
   "name": "python3"
  },
  "language_info": {
   "codemirror_mode": {
    "name": "ipython",
    "version": 3
   },
   "file_extension": ".py",
   "mimetype": "text/x-python",
   "name": "python",
   "nbconvert_exporter": "python",
   "pygments_lexer": "ipython3",
   "version": "3.6.3"
  }
 },
 "nbformat": 4,
 "nbformat_minor": 2
}
