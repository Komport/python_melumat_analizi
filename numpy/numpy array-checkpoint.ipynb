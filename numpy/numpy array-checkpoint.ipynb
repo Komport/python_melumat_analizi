{
 "cells": [
  {
   "cell_type": "markdown",
   "metadata": {},
   "source": [
    "#### İpython notebokla [bu saytdan](http://nbviewer.jupyter.org/) daha yaxşı baxa bilərsiz\n",
    "\n",
    "- NumPy  MATLAB-a sərbəst bir alternativ hesab edilə bilər.\n",
    "\n",
    "\n",
    "- MATLAB  proqramlaşdırma dili NumPy kimi görünür: hər ikisi də şərh edilə bilir,matrislərdə əməliyyatlara imkan verir. \n",
    "\n",
    "- MATLAB-ın çoxlu sayda paketi var, məsələn, Simulink (İngilis dili) üstünlüyü. NumPy üçün benzer \"paketler\" də var, məsələn, SciPy kitabxanası daha çox MATLAB kimi funksionallığı təmin edir, Matplotlib kitabxanası MATLAB üslubunda qrafik yaratmağa imkan verir. \n",
    "\n",
    "\n",
    "- Həm  MATLAB həm də NumPy lineer cəbrin əsas problemlərini həll etmək üçün LAPACK kitabxanasının koduna əsasən kod istifadə edir."
   ]
  },
  {
   "cell_type": "code",
   "execution_count": 16,
   "metadata": {},
   "outputs": [],
   "source": [
    "import numpy as np"
   ]
  },
  {
   "cell_type": "markdown",
   "metadata": {},
   "source": [
    "**İlk evvel** numpy-a import edirik daha uzun yazmayaq deyə `as` - dan istifadə edirik  "
   ]
  },
  {
   "cell_type": "code",
   "execution_count": 17,
   "metadata": {},
   "outputs": [],
   "source": [
    "arr = [1,2,3,4]"
   ]
  },
  {
   "cell_type": "code",
   "execution_count": 18,
   "metadata": {},
   "outputs": [],
   "source": [
    "arr2 = [5,6,7,8]"
   ]
  },
  {
   "cell_type": "markdown",
   "metadata": {},
   "source": [
    "Arrayləri yaratdıqdan sonra listimizi düzəldirik və **numpydan** istifadə edirik "
   ]
  },
  {
   "cell_type": "code",
   "execution_count": 20,
   "metadata": {},
   "outputs": [],
   "source": [
    "lists = np.array([arr,arr2])"
   ]
  },
  {
   "cell_type": "code",
   "execution_count": 21,
   "metadata": {},
   "outputs": [
    {
     "data": {
      "text/plain": [
       "array([[1, 2, 3, 4],\n",
       "       [5, 6, 7, 8]])"
      ]
     },
     "execution_count": 21,
     "metadata": {},
     "output_type": "execute_result"
    }
   ],
   "source": [
    "lists"
   ]
  },
  {
   "cell_type": "markdown",
   "metadata": {},
   "source": [
    "**Numpy** üçün deyərdim ki for loop-dan daha az kod yazmaqla tez bir zaman içində nəticə əldə edib işləmək olar"
   ]
  },
  {
   "cell_type": "markdown",
   "metadata": {},
   "source": [
    " `arr = np.array(1,2,3,4)`\n",
    " ### bu cür array yazmaq sərfdi yalnız bu cür yazmaq olar \n",
    " `arr = np.array([1,2,3,4])`"
   ]
  },
  {
   "cell_type": "code",
   "execution_count": null,
   "metadata": {},
   "outputs": [],
   "source": []
  }
 ],
 "metadata": {
  "kernelspec": {
   "display_name": "Python 3",
   "language": "python",
   "name": "python3"
  },
  "language_info": {
   "codemirror_mode": {
    "name": "ipython",
    "version": 3
   },
   "file_extension": ".py",
   "mimetype": "text/x-python",
   "name": "python",
   "nbconvert_exporter": "python",
   "pygments_lexer": "ipython3",
   "version": "3.6.3"
  }
 },
 "nbformat": 4,
 "nbformat_minor": 2
}
