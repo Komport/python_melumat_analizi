{
 "cells": [
  {
   "cell_type": "code",
   "execution_count": 1,
   "metadata": {},
   "outputs": [],
   "source": [
    "import pandas as pd"
   ]
  },
  {
   "cell_type": "code",
   "execution_count": 2,
   "metadata": {},
   "outputs": [],
   "source": [
    "from pandas import Series,DataFrame\n",
    "import numpy as np\n",
    "from numpy.random import randn"
   ]
  },
  {
   "cell_type": "markdown",
   "metadata": {},
   "source": [
    "**Ümumi görünüşü bu cür olur:**\n",
    "\n",
    "`class pandas.Series(data=None, index=None, dtype=None, name=None, copy=False, fastpath=False)`\n",
    "\n",
    ">`data`: _dict,numpy array və ya rəqəmsal ola bilər_\n",
    "\n",
    ">`index`: _arraydə ola bilər və ya 1D matrix,data ilə eyni uzunluğa sahib olmalıdır_\n",
    "\n",
    ">`dtype`: _numpy.dtype və ya None əgər None olsa dtype çıxarılacaq_\n",
    "\n",
    ">`copy`: _Giriş məlumatlarının kopyalanması _"
   ]
  },
  {
   "cell_type": "code",
   "execution_count": 29,
   "metadata": {},
   "outputs": [
    {
     "data": {
      "text/plain": [
       "a    1\n",
       "b    2\n",
       "c    3\n",
       "d    4\n",
       "e    5\n",
       "dtype: int64"
      ]
     },
     "execution_count": 29,
     "metadata": {},
     "output_type": "execute_result"
    }
   ],
   "source": [
    "data = np.array([1,2,3,4,5]) \n",
    "ser = pd.Series(data, index=['a', 'b', 'c', 'd', 'e'])\n",
    "ser"
   ]
  },
  {
   "cell_type": "code",
   "execution_count": 30,
   "metadata": {},
   "outputs": [
    {
     "data": {
      "text/plain": [
       "0    1\n",
       "1    2\n",
       "2    3\n",
       "3    4\n",
       "4    5\n",
       "dtype: int64"
      ]
     },
     "execution_count": 30,
     "metadata": {},
     "output_type": "execute_result"
    }
   ],
   "source": [
    "#əgər index qeyd olunmazsa\n",
    "data = np.array([1,2,3,4,5])\n",
    "ser = pd.Series(data)\n",
    "ser"
   ]
  },
  {
   "cell_type": "code",
   "execution_count": 33,
   "metadata": {},
   "outputs": [
    {
     "data": {
      "text/plain": [
       "a    2.4\n",
       "b    1.9\n",
       "c    2.0\n",
       "dtype: float64"
      ]
     },
     "execution_count": 33,
     "metadata": {},
     "output_type": "execute_result"
    }
   ],
   "source": [
    "data_dict = {'a' : 2.4, 'b' : 1.9, 'c' : 2.}\n",
    "ser2 = pd.Series(data_dict) #əgər dictlərdə index qeyd olunmazsa açar sözlər index kimi qeyd olunacaq\n",
    "ser2 "
   ]
  },
  {
   "cell_type": "code",
   "execution_count": 48,
   "metadata": {},
   "outputs": [
    {
     "data": {
      "text/plain": [
       "1    5.0\n",
       "2    5.0\n",
       "3    5.0\n",
       "4    5.0\n",
       "5    5.0\n",
       "Name: Seriyanin adi, dtype: float64"
      ]
     },
     "execution_count": 48,
     "metadata": {},
     "output_type": "execute_result"
    }
   ],
   "source": [
    "ser = pd.Series(5., index=[1,2,3,4,5],name=\"Seriyanin adi\") #name seriyaya verdiyimiz ad olacaq\n",
    "ser"
   ]
  },
  {
   "cell_type": "code",
   "execution_count": 44,
   "metadata": {},
   "outputs": [
    {
     "data": {
      "text/plain": [
       "0    NaN\n",
       "1    6.0\n",
       "2    7.0\n",
       "3    8.0\n",
       "4    9.0\n",
       "5    NaN\n",
       "dtype: float64"
      ]
     },
     "execution_count": 44,
     "metadata": {},
     "output_type": "execute_result"
    }
   ],
   "source": [
    "#iki seriyanin toplanması\n",
    "ser = pd.Series(5., index=[1,2,3,4,5])\n",
    "ser2 = pd.Series(np.arange(5))\n",
    "ser2+ser"
   ]
  },
  {
   "cell_type": "code",
   "execution_count": 46,
   "metadata": {},
   "outputs": [
    {
     "data": {
      "text/plain": [
       "7.0"
      ]
     },
     "execution_count": 46,
     "metadata": {},
     "output_type": "execute_result"
    }
   ],
   "source": [
    "ser = pd.Series(5., index=[1,2,3,4,5])\n",
    "ser2 = pd.Series(np.arange(5))\n",
    "ser2[2]+ser[2] # 2ci sırada olanları topladıq"
   ]
  },
  {
   "cell_type": "code",
   "execution_count": 53,
   "metadata": {},
   "outputs": [
    {
     "data": {
      "text/plain": [
       "'Seriyanin adi'"
      ]
     },
     "execution_count": 53,
     "metadata": {},
     "output_type": "execute_result"
    }
   ],
   "source": [
    "ser = pd.Series(5., index=[1,2,3,4,5],name=\"Seriyanin adi\") #name seriyaya verdiyimiz ad olacaq\n",
    "ser.name"
   ]
  },
  {
   "cell_type": "code",
   "execution_count": 55,
   "metadata": {},
   "outputs": [
    {
     "data": {
      "text/plain": [
       "'Seriyanin adin deyisdik'"
      ]
     },
     "execution_count": 55,
     "metadata": {},
     "output_type": "execute_result"
    }
   ],
   "source": [
    "ser = ser.rename(\"Seriyanin adin deyisdik\")\n",
    "ser.name"
   ]
  },
  {
   "cell_type": "markdown",
   "metadata": {},
   "source": [
    "`pd.date_range('20180101', periods=1)` __tarix qeyd olunur 2018 ve ya her hansi bir il daha sonra birləşik olaraq ay və gün period isə dövrlərin sayıdı neçə gün istəsək ona uyğun period yazırıq __"
   ]
  },
  {
   "cell_type": "code",
   "execution_count": 3,
   "metadata": {},
   "outputs": [
    {
     "data": {
      "text/plain": [
       "0    DatetimeIndex(['2018-01-01'], dtype='datetime6...\n",
       "1    DatetimeIndex(['2018-01-01'], dtype='datetime6...\n",
       "2    DatetimeIndex(['2018-01-01'], dtype='datetime6...\n",
       "3    DatetimeIndex(['2018-01-01'], dtype='datetime6...\n",
       "4    DatetimeIndex(['2018-01-01'], dtype='datetime6...\n",
       "dtype: object"
      ]
     },
     "execution_count": 3,
     "metadata": {},
     "output_type": "execute_result"
    }
   ],
   "source": [
    "a = Series([pd.date_range('20180101', periods=1)],index=np.arange(5))\n",
    "a"
   ]
  },
  {
   "cell_type": "code",
   "execution_count": 5,
   "metadata": {},
   "outputs": [
    {
     "data": {
      "text/plain": [
       "DatetimeIndex(['2018-01-01'], dtype='datetime64[ns]', freq='D')"
      ]
     },
     "execution_count": 5,
     "metadata": {},
     "output_type": "execute_result"
    }
   ],
   "source": [
    "a[3]"
   ]
  },
  {
   "cell_type": "code",
   "execution_count": 56,
   "metadata": {},
   "outputs": [
    {
     "data": {
      "text/plain": [
       "array([DatetimeIndex(['2018-01-01'], dtype='datetime64[ns]', freq='D'),\n",
       "       DatetimeIndex(['2018-01-01'], dtype='datetime64[ns]', freq='D'),\n",
       "       DatetimeIndex(['2018-01-01'], dtype='datetime64[ns]', freq='D'),\n",
       "       DatetimeIndex(['2018-01-01'], dtype='datetime64[ns]', freq='D'),\n",
       "       DatetimeIndex(['2018-01-01'], dtype='datetime64[ns]', freq='D')],\n",
       "      dtype=object)"
      ]
     },
     "execution_count": 56,
     "metadata": {},
     "output_type": "execute_result"
    }
   ],
   "source": [
    "a.values #dəyərləri cağırırıq"
   ]
  },
  {
   "cell_type": "code",
   "execution_count": 7,
   "metadata": {},
   "outputs": [
    {
     "data": {
      "text/plain": [
       "Int64Index([0, 1, 2, 3, 4], dtype='int64')"
      ]
     },
     "execution_count": 7,
     "metadata": {},
     "output_type": "execute_result"
    }
   ],
   "source": [
    "a.index #series de qeyd etdiyimiz index çağırılır"
   ]
  },
  {
   "cell_type": "code",
   "execution_count": 57,
   "metadata": {},
   "outputs": [],
   "source": [
    "b = a.to_dict() #dict-ə çeviririk"
   ]
  },
  {
   "cell_type": "code",
   "execution_count": 58,
   "metadata": {},
   "outputs": [
    {
     "data": {
      "text/plain": [
       "{0: DatetimeIndex(['2018-01-01'], dtype='datetime64[ns]', freq='D'),\n",
       " 1: DatetimeIndex(['2018-01-01'], dtype='datetime64[ns]', freq='D'),\n",
       " 2: DatetimeIndex(['2018-01-01'], dtype='datetime64[ns]', freq='D'),\n",
       " 3: DatetimeIndex(['2018-01-01'], dtype='datetime64[ns]', freq='D'),\n",
       " 4: DatetimeIndex(['2018-01-01'], dtype='datetime64[ns]', freq='D')}"
      ]
     },
     "execution_count": 58,
     "metadata": {},
     "output_type": "execute_result"
    }
   ],
   "source": [
    "b"
   ]
  },
  {
   "cell_type": "code",
   "execution_count": 10,
   "metadata": {},
   "outputs": [
    {
     "data": {
      "text/plain": [
       "0    DatetimeIndex(['2018-01-01'], dtype='datetime6...\n",
       "1    DatetimeIndex(['2018-01-01'], dtype='datetime6...\n",
       "2    DatetimeIndex(['2018-01-01'], dtype='datetime6...\n",
       "3    DatetimeIndex(['2018-01-01'], dtype='datetime6...\n",
       "4    DatetimeIndex(['2018-01-01'], dtype='datetime6...\n",
       "dtype: object"
      ]
     },
     "execution_count": 10,
     "metadata": {},
     "output_type": "execute_result"
    }
   ],
   "source": [
    "a"
   ]
  },
  {
   "cell_type": "code",
   "execution_count": 11,
   "metadata": {},
   "outputs": [],
   "source": [
    "a.name = \"Sorry not name\" #series adı bu cürdə qeyd etmək olar"
   ]
  },
  {
   "cell_type": "code",
   "execution_count": 12,
   "metadata": {},
   "outputs": [
    {
     "data": {
      "text/plain": [
       "0    DatetimeIndex(['2018-01-01'], dtype='datetime6...\n",
       "1    DatetimeIndex(['2018-01-01'], dtype='datetime6...\n",
       "2    DatetimeIndex(['2018-01-01'], dtype='datetime6...\n",
       "3    DatetimeIndex(['2018-01-01'], dtype='datetime6...\n",
       "4    DatetimeIndex(['2018-01-01'], dtype='datetime6...\n",
       "Name: Sorry not name, dtype: object"
      ]
     },
     "execution_count": 12,
     "metadata": {},
     "output_type": "execute_result"
    }
   ],
   "source": [
    "a"
   ]
  },
  {
   "cell_type": "code",
   "execution_count": 13,
   "metadata": {},
   "outputs": [],
   "source": [
    "a.index.name=\"Indeks adi\" #indexin adi"
   ]
  },
  {
   "cell_type": "code",
   "execution_count": 14,
   "metadata": {},
   "outputs": [
    {
     "data": {
      "text/plain": [
       "Indeks adi\n",
       "0    DatetimeIndex(['2018-01-01'], dtype='datetime6...\n",
       "1    DatetimeIndex(['2018-01-01'], dtype='datetime6...\n",
       "2    DatetimeIndex(['2018-01-01'], dtype='datetime6...\n",
       "3    DatetimeIndex(['2018-01-01'], dtype='datetime6...\n",
       "4    DatetimeIndex(['2018-01-01'], dtype='datetime6...\n",
       "Name: Sorry not name, dtype: object"
      ]
     },
     "execution_count": 14,
     "metadata": {},
     "output_type": "execute_result"
    }
   ],
   "source": [
    "a"
   ]
  },
  {
   "cell_type": "code",
   "execution_count": 15,
   "metadata": {},
   "outputs": [
    {
     "data": {
      "text/plain": [
       "1"
      ]
     },
     "execution_count": 15,
     "metadata": {},
     "output_type": "execute_result"
    }
   ],
   "source": [
    "a.index[1]"
   ]
  },
  {
   "cell_type": "code",
   "execution_count": 59,
   "metadata": {},
   "outputs": [
    {
     "data": {
      "text/plain": [
       "Indeks adi\n",
       "0    DatetimeIndex(['2018-01-01'], dtype='datetime6...\n",
       "1    DatetimeIndex(['2018-01-01'], dtype='datetime6...\n",
       "2    DatetimeIndex(['2018-01-01'], dtype='datetime6...\n",
       "3    DatetimeIndex(['2018-01-01'], dtype='datetime6...\n",
       "4    DatetimeIndex(['2018-01-01'], dtype='datetime6...\n",
       "Name: Sorry not name, dtype: object"
      ]
     },
     "execution_count": 59,
     "metadata": {},
     "output_type": "execute_result"
    }
   ],
   "source": [
    "a.sort_index() #indeksin siralanmasi"
   ]
  },
  {
   "cell_type": "code",
   "execution_count": 63,
   "metadata": {},
   "outputs": [
    {
     "data": {
      "text/plain": [
       "0     J\n",
       "1     A\n",
       "2     B\n",
       "3     C\n",
       "4     D\n",
       "5     A\n",
       "6     E\n",
       "7     F\n",
       "8     G\n",
       "9     H\n",
       "10    C\n",
       "11    I\n",
       "12    J\n",
       "dtype: object"
      ]
     },
     "execution_count": 63,
     "metadata": {},
     "output_type": "execute_result"
    }
   ],
   "source": [
    "list2 = ['J','A','B','C','D','A','E','F','G','H','C','I','J'] #burada eyni adda muxtelif məlumatlar qeyd olunur\n",
    "ser = Series(list2)\n",
    "ser"
   ]
  },
  {
   "cell_type": "code",
   "execution_count": 64,
   "metadata": {},
   "outputs": [
    {
     "data": {
      "text/plain": [
       "array(['J', 'A', 'B', 'C', 'D', 'E', 'F', 'G', 'H', 'I'], dtype=object)"
      ]
     },
     "execution_count": 64,
     "metadata": {},
     "output_type": "execute_result"
    }
   ],
   "source": [
    "ser.unique() #daha sonra isə biz onları bənzərsiz olaraq çağırırıq"
   ]
  },
  {
   "cell_type": "code",
   "execution_count": 65,
   "metadata": {},
   "outputs": [
    {
     "data": {
      "text/plain": [
       "A    2\n",
       "J    2\n",
       "C    2\n",
       "B    1\n",
       "D    1\n",
       "H    1\n",
       "E    1\n",
       "I    1\n",
       "F    1\n",
       "G    1\n",
       "dtype: int64"
      ]
     },
     "execution_count": 65,
     "metadata": {},
     "output_type": "execute_result"
    }
   ],
   "source": [
    "ser.value_counts() #burad hər məlumatdan eyni anda neçəsi qeyd olunubsa onu bildiri"
   ]
  },
  {
   "cell_type": "code",
   "execution_count": 66,
   "metadata": {},
   "outputs": [
    {
     "data": {
      "text/plain": [
       "0       J\n",
       "1       A\n",
       "2       B\n",
       "3       C\n",
       "4     NaN\n",
       "5       A\n",
       "6       E\n",
       "7       F\n",
       "8       G\n",
       "9       H\n",
       "10      C\n",
       "11      I\n",
       "12      J\n",
       "13    NaN\n",
       "dtype: object"
      ]
     },
     "execution_count": 66,
     "metadata": {},
     "output_type": "execute_result"
    }
   ],
   "source": [
    "ser[13]=np.nan #np.nan numpy None funksiyasın yerinə yetirir\n",
    "ser[4]=np.nan\n",
    "ser"
   ]
  },
  {
   "cell_type": "code",
   "execution_count": 67,
   "metadata": {},
   "outputs": [
    {
     "data": {
      "text/plain": [
       "0     False\n",
       "1     False\n",
       "2     False\n",
       "3     False\n",
       "4      True\n",
       "5     False\n",
       "6     False\n",
       "7     False\n",
       "8     False\n",
       "9     False\n",
       "10    False\n",
       "11    False\n",
       "12    False\n",
       "13     True\n",
       "dtype: bool"
      ]
     },
     "execution_count": 67,
     "metadata": {},
     "output_type": "execute_result"
    }
   ],
   "source": [
    "ser.isnull() #əgər Null deyilse False NUllsa true"
   ]
  }
 ],
 "metadata": {
  "kernelspec": {
   "display_name": "Python 3",
   "language": "python",
   "name": "python3"
  },
  "language_info": {
   "codemirror_mode": {
    "name": "ipython",
    "version": 3
   },
   "file_extension": ".py",
   "mimetype": "text/x-python",
   "name": "python",
   "nbconvert_exporter": "python",
   "pygments_lexer": "ipython3",
   "version": "3.6.3"
  }
 },
 "nbformat": 4,
 "nbformat_minor": 2
}
