{
 "cells": [
  {
   "cell_type": "code",
   "execution_count": 2,
   "metadata": {},
   "outputs": [],
   "source": [
    "import pandas as pd"
   ]
  },
  {
   "cell_type": "code",
   "execution_count": 101,
   "metadata": {},
   "outputs": [],
   "source": [
    "from pandas import Series,DataFrame\n",
    "import numpy as np\n",
    "from numpy.random import randn"
   ]
  },
  {
   "cell_type": "code",
   "execution_count": 127,
   "metadata": {},
   "outputs": [
    {
     "data": {
      "text/plain": [
       "0    DatetimeIndex(['2018-01-01'], dtype='datetime6...\n",
       "1    DatetimeIndex(['2018-01-01'], dtype='datetime6...\n",
       "2    DatetimeIndex(['2018-01-01'], dtype='datetime6...\n",
       "3    DatetimeIndex(['2018-01-01'], dtype='datetime6...\n",
       "4    DatetimeIndex(['2018-01-01'], dtype='datetime6...\n",
       "dtype: object"
      ]
     },
     "execution_count": 127,
     "metadata": {},
     "output_type": "execute_result"
    }
   ],
   "source": [
    "a = Series([pd.date_range('20180101', periods=1)],index=np.arange(5))\n",
    "a"
   ]
  },
  {
   "cell_type": "code",
   "execution_count": 128,
   "metadata": {},
   "outputs": [
    {
     "data": {
      "text/plain": [
       "DatetimeIndex(['2018-01-01'], dtype='datetime64[ns]', freq='D')"
      ]
     },
     "execution_count": 128,
     "metadata": {},
     "output_type": "execute_result"
    }
   ],
   "source": [
    "a[3]"
   ]
  },
  {
   "cell_type": "code",
   "execution_count": 129,
   "metadata": {},
   "outputs": [
    {
     "data": {
      "text/plain": [
       "array([DatetimeIndex(['2018-01-01'], dtype='datetime64[ns]', freq='D'),\n",
       "       DatetimeIndex(['2018-01-01'], dtype='datetime64[ns]', freq='D'),\n",
       "       DatetimeIndex(['2018-01-01'], dtype='datetime64[ns]', freq='D'),\n",
       "       DatetimeIndex(['2018-01-01'], dtype='datetime64[ns]', freq='D'),\n",
       "       DatetimeIndex(['2018-01-01'], dtype='datetime64[ns]', freq='D')],\n",
       "      dtype=object)"
      ]
     },
     "execution_count": 129,
     "metadata": {},
     "output_type": "execute_result"
    }
   ],
   "source": [
    "a.values"
   ]
  },
  {
   "cell_type": "code",
   "execution_count": 130,
   "metadata": {},
   "outputs": [
    {
     "data": {
      "text/plain": [
       "Int64Index([0, 1, 2, 3, 4], dtype='int64')"
      ]
     },
     "execution_count": 130,
     "metadata": {},
     "output_type": "execute_result"
    }
   ],
   "source": [
    "a.index"
   ]
  },
  {
   "cell_type": "code",
   "execution_count": 131,
   "metadata": {},
   "outputs": [],
   "source": [
    "b = a.to_dict()"
   ]
  },
  {
   "cell_type": "code",
   "execution_count": 132,
   "metadata": {},
   "outputs": [
    {
     "data": {
      "text/plain": [
       "{0: DatetimeIndex(['2018-01-01'], dtype='datetime64[ns]', freq='D'),\n",
       " 1: DatetimeIndex(['2018-01-01'], dtype='datetime64[ns]', freq='D'),\n",
       " 2: DatetimeIndex(['2018-01-01'], dtype='datetime64[ns]', freq='D'),\n",
       " 3: DatetimeIndex(['2018-01-01'], dtype='datetime64[ns]', freq='D'),\n",
       " 4: DatetimeIndex(['2018-01-01'], dtype='datetime64[ns]', freq='D')}"
      ]
     },
     "execution_count": 132,
     "metadata": {},
     "output_type": "execute_result"
    }
   ],
   "source": [
    "b"
   ]
  },
  {
   "cell_type": "code",
   "execution_count": 133,
   "metadata": {},
   "outputs": [
    {
     "data": {
      "text/plain": [
       "0    DatetimeIndex(['2018-01-01'], dtype='datetime6...\n",
       "1    DatetimeIndex(['2018-01-01'], dtype='datetime6...\n",
       "2    DatetimeIndex(['2018-01-01'], dtype='datetime6...\n",
       "3    DatetimeIndex(['2018-01-01'], dtype='datetime6...\n",
       "4    DatetimeIndex(['2018-01-01'], dtype='datetime6...\n",
       "dtype: object"
      ]
     },
     "execution_count": 133,
     "metadata": {},
     "output_type": "execute_result"
    }
   ],
   "source": [
    "a"
   ]
  },
  {
   "cell_type": "code",
   "execution_count": 134,
   "metadata": {},
   "outputs": [],
   "source": [
    "a.name = \"Sorry not name\""
   ]
  },
  {
   "cell_type": "code",
   "execution_count": 135,
   "metadata": {},
   "outputs": [
    {
     "data": {
      "text/plain": [
       "0    DatetimeIndex(['2018-01-01'], dtype='datetime6...\n",
       "1    DatetimeIndex(['2018-01-01'], dtype='datetime6...\n",
       "2    DatetimeIndex(['2018-01-01'], dtype='datetime6...\n",
       "3    DatetimeIndex(['2018-01-01'], dtype='datetime6...\n",
       "4    DatetimeIndex(['2018-01-01'], dtype='datetime6...\n",
       "Name: Sorry not name, dtype: object"
      ]
     },
     "execution_count": 135,
     "metadata": {},
     "output_type": "execute_result"
    }
   ],
   "source": [
    "a"
   ]
  },
  {
   "cell_type": "code",
   "execution_count": 136,
   "metadata": {},
   "outputs": [],
   "source": [
    "a.index.name=\"Indeks adi\""
   ]
  },
  {
   "cell_type": "code",
   "execution_count": 137,
   "metadata": {},
   "outputs": [
    {
     "data": {
      "text/plain": [
       "Indeks adi\n",
       "0    DatetimeIndex(['2018-01-01'], dtype='datetime6...\n",
       "1    DatetimeIndex(['2018-01-01'], dtype='datetime6...\n",
       "2    DatetimeIndex(['2018-01-01'], dtype='datetime6...\n",
       "3    DatetimeIndex(['2018-01-01'], dtype='datetime6...\n",
       "4    DatetimeIndex(['2018-01-01'], dtype='datetime6...\n",
       "Name: Sorry not name, dtype: object"
      ]
     },
     "execution_count": 137,
     "metadata": {},
     "output_type": "execute_result"
    }
   ],
   "source": [
    "a"
   ]
  },
  {
   "cell_type": "code",
   "execution_count": 138,
   "metadata": {},
   "outputs": [
    {
     "data": {
      "text/plain": [
       "1"
      ]
     },
     "execution_count": 138,
     "metadata": {},
     "output_type": "execute_result"
    }
   ],
   "source": [
    "a.index[1]"
   ]
  },
  {
   "cell_type": "code",
   "execution_count": 139,
   "metadata": {},
   "outputs": [
    {
     "data": {
      "text/plain": [
       "Indeks adi\n",
       "0    DatetimeIndex(['2018-01-01'], dtype='datetime6...\n",
       "1    DatetimeIndex(['2018-01-01'], dtype='datetime6...\n",
       "2    DatetimeIndex(['2018-01-01'], dtype='datetime6...\n",
       "3    DatetimeIndex(['2018-01-01'], dtype='datetime6...\n",
       "4    DatetimeIndex(['2018-01-01'], dtype='datetime6...\n",
       "Name: Sorry not name, dtype: object"
      ]
     },
     "execution_count": 139,
     "metadata": {},
     "output_type": "execute_result"
    }
   ],
   "source": [
    "a.sort_index()"
   ]
  },
  {
   "cell_type": "code",
   "execution_count": 149,
   "metadata": {},
   "outputs": [],
   "source": [
    "list2 = ['J','A','B','C','D','A','E','F','G','H','C','I','J']"
   ]
  },
  {
   "cell_type": "code",
   "execution_count": 150,
   "metadata": {},
   "outputs": [
    {
     "data": {
      "text/plain": [
       "0     J\n",
       "1     A\n",
       "2     B\n",
       "3     C\n",
       "4     D\n",
       "5     A\n",
       "6     E\n",
       "7     F\n",
       "8     G\n",
       "9     H\n",
       "10    C\n",
       "11    I\n",
       "12    J\n",
       "dtype: object"
      ]
     },
     "execution_count": 150,
     "metadata": {},
     "output_type": "execute_result"
    }
   ],
   "source": [
    "ser = Series(list2)\n",
    "ser"
   ]
  },
  {
   "cell_type": "code",
   "execution_count": 151,
   "metadata": {},
   "outputs": [
    {
     "data": {
      "text/plain": [
       "array(['J', 'A', 'B', 'C', 'D', 'E', 'F', 'G', 'H', 'I'], dtype=object)"
      ]
     },
     "execution_count": 151,
     "metadata": {},
     "output_type": "execute_result"
    }
   ],
   "source": [
    "ser.unique()"
   ]
  },
  {
   "cell_type": "code",
   "execution_count": 154,
   "metadata": {},
   "outputs": [
    {
     "data": {
      "text/plain": [
       "J    2\n",
       "A    2\n",
       "C    2\n",
       "D    1\n",
       "H    1\n",
       "E    1\n",
       "I    1\n",
       "G    1\n",
       "F    1\n",
       "B    1\n",
       "dtype: int64"
      ]
     },
     "execution_count": 154,
     "metadata": {},
     "output_type": "execute_result"
    }
   ],
   "source": [
    "ser.value_counts()"
   ]
  },
  {
   "cell_type": "code",
   "execution_count": 173,
   "metadata": {},
   "outputs": [
    {
     "data": {
      "text/plain": [
       "0       J\n",
       "1       A\n",
       "2       B\n",
       "3       C\n",
       "4     NaN\n",
       "5       A\n",
       "6       E\n",
       "7       F\n",
       "8       G\n",
       "9       H\n",
       "10      C\n",
       "11      I\n",
       "12      J\n",
       "13    NaN\n",
       "dtype: object"
      ]
     },
     "execution_count": 173,
     "metadata": {},
     "output_type": "execute_result"
    }
   ],
   "source": [
    "ser[13]=np.nan\n",
    "ser[4]=np.nan\n",
    "ser"
   ]
  },
  {
   "cell_type": "code",
   "execution_count": 174,
   "metadata": {},
   "outputs": [
    {
     "data": {
      "text/plain": [
       "0     False\n",
       "1     False\n",
       "2     False\n",
       "3     False\n",
       "4      True\n",
       "5     False\n",
       "6     False\n",
       "7     False\n",
       "8     False\n",
       "9     False\n",
       "10    False\n",
       "11    False\n",
       "12    False\n",
       "13     True\n",
       "dtype: bool"
      ]
     },
     "execution_count": 174,
     "metadata": {},
     "output_type": "execute_result"
    }
   ],
   "source": [
    "ser.isnull()"
   ]
  },
  {
   "cell_type": "code",
   "execution_count": 193,
   "metadata": {},
   "outputs": [
    {
     "data": {
      "text/plain": [
       "A    0\n",
       "B    1\n",
       "C    2\n",
       "D    3\n",
       "E    4\n",
       "F    5\n",
       "G    6\n",
       "H    7\n",
       "I    8\n",
       "J    9\n",
       "dtype: int64"
      ]
     },
     "execution_count": 193,
     "metadata": {},
     "output_type": "execute_result"
    }
   ],
   "source": [
    "ser2 = Series(np.arange(len(['A','B','C','D','E','F','G','H','I','J'])),index=[['A','B','C','D','E','F','G','H','I','J'],[1,2,3,4,5,6,7,8,9,10]])\n",
    "ser2"
   ]
  },
  {
   "cell_type": "code",
   "execution_count": null,
   "metadata": {},
   "outputs": [],
   "source": []
  },
  {
   "cell_type": "code",
   "execution_count": null,
   "metadata": {},
   "outputs": [],
   "source": []
  },
  {
   "cell_type": "code",
   "execution_count": null,
   "metadata": {},
   "outputs": [],
   "source": []
  }
 ],
 "metadata": {
  "kernelspec": {
   "display_name": "Python 3",
   "language": "python",
   "name": "python3"
  },
  "language_info": {
   "codemirror_mode": {
    "name": "ipython",
    "version": 3
   },
   "file_extension": ".py",
   "mimetype": "text/x-python",
   "name": "python",
   "nbconvert_exporter": "python",
   "pygments_lexer": "ipython3",
   "version": "3.6.3"
  }
 },
 "nbformat": 4,
 "nbformat_minor": 2
}
